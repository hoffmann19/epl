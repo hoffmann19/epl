{
 "cells": [
  {
   "cell_type": "code",
   "execution_count": 5,
   "metadata": {
    "collapsed": true
   },
   "outputs": [],
   "source": [
    "import pandas as pd\n",
    "import numpy as np\n",
    "import os\n",
    "import h2o"
   ]
  },
  {
   "cell_type": "markdown",
   "metadata": {},
   "source": [
    "##Selecting Data"
   ]
  },
  {
   "cell_type": "code",
   "execution_count": 7,
   "metadata": {
    "collapsed": true
   },
   "outputs": [],
   "source": [
    "df = pd.read_csv(\"2017-12-29_df.csv\")"
   ]
  },
  {
   "cell_type": "code",
   "execution_count": 8,
   "metadata": {},
   "outputs": [
    {
     "data": {
      "text/plain": [
       "Index(['Unnamed: 0', 'team', 'Goals', 'Assists', 'Shots', 'Shots on Goal',\n",
       "       'Saves', 'Penalties Scored', 'Penalty Kicks', 'Crosses', 'Corner Kicks',\n",
       "       'Passes', 'Offside', 'Fouls Committed', 'Cautions/Yellow Cards',\n",
       "       'Red Cards', 'Ball Possession', 'date', 'Opponent', 'GoalsAllowed',\n",
       "       'GameID', 'home_away', 'win_flag', 'gameweek_points',\n",
       "       'goal_conversion_total_shots', 'goal_conversion_shots_on_goal',\n",
       "       'unassisted_goals', 'passes_per_goal', 'fouls_per_yellow_card',\n",
       "       'fouls_per_red_card', 'goal_difference', 'game_week',\n",
       "       'team_gameweek_id', 'opp_team_gameweek_id', 'cumu_points',\n",
       "       'cumu_goal_difference', 'cumu_goals', 'team_standing_rank',\n",
       "       'opp_standing_rank', 'standing_difference', 'close_standing_flag',\n",
       "       'against_top_6_flag', 'value_point', 'points_lag1', 'points_lag2',\n",
       "       'points_lag3', 'opponent_standing_lag1', 'opponent_standing_lag2',\n",
       "       'opponent_standing_lag3'],\n",
       "      dtype='object')"
      ]
     },
     "execution_count": 8,
     "metadata": {},
     "output_type": "execute_result"
    }
   ],
   "source": [
    "df.columns"
   ]
  },
  {
   "cell_type": "code",
   "execution_count": 9,
   "metadata": {
    "collapsed": true
   },
   "outputs": [],
   "source": [
    "df = df[['win_flag','Shots','Shots on Goal','Saves','Crosses','Corner Kicks','Passes','Offside',\n",
    "        'Fouls Committed','Cautions/Yellow Cards','Red Cards','Ball Possession','standing_difference', \n",
    "        'close_standing_flag']]"
   ]
  },
  {
   "cell_type": "code",
   "execution_count": 10,
   "metadata": {},
   "outputs": [
    {
     "data": {
      "text/html": [
       "<div>\n",
       "<style>\n",
       "    .dataframe thead tr:only-child th {\n",
       "        text-align: right;\n",
       "    }\n",
       "\n",
       "    .dataframe thead th {\n",
       "        text-align: left;\n",
       "    }\n",
       "\n",
       "    .dataframe tbody tr th {\n",
       "        vertical-align: top;\n",
       "    }\n",
       "</style>\n",
       "<table border=\"1\" class=\"dataframe\">\n",
       "  <thead>\n",
       "    <tr style=\"text-align: right;\">\n",
       "      <th></th>\n",
       "      <th>win_flag</th>\n",
       "      <th>Shots</th>\n",
       "      <th>Shots on Goal</th>\n",
       "      <th>Saves</th>\n",
       "      <th>Crosses</th>\n",
       "      <th>Corner Kicks</th>\n",
       "      <th>Passes</th>\n",
       "      <th>Offside</th>\n",
       "      <th>Fouls Committed</th>\n",
       "      <th>Cautions/Yellow Cards</th>\n",
       "      <th>Red Cards</th>\n",
       "      <th>Ball Possession</th>\n",
       "      <th>standing_difference</th>\n",
       "      <th>close_standing_flag</th>\n",
       "    </tr>\n",
       "  </thead>\n",
       "  <tbody>\n",
       "    <tr>\n",
       "      <th>395</th>\n",
       "      <td>0</td>\n",
       "      <td>7</td>\n",
       "      <td>4</td>\n",
       "      <td>4</td>\n",
       "      <td>11</td>\n",
       "      <td>2</td>\n",
       "      <td>422</td>\n",
       "      <td>0</td>\n",
       "      <td>8</td>\n",
       "      <td>1</td>\n",
       "      <td>0</td>\n",
       "      <td>0.42</td>\n",
       "      <td>-16</td>\n",
       "      <td>0</td>\n",
       "    </tr>\n",
       "    <tr>\n",
       "      <th>396</th>\n",
       "      <td>0</td>\n",
       "      <td>6</td>\n",
       "      <td>2</td>\n",
       "      <td>5</td>\n",
       "      <td>7</td>\n",
       "      <td>3</td>\n",
       "      <td>147</td>\n",
       "      <td>4</td>\n",
       "      <td>11</td>\n",
       "      <td>1</td>\n",
       "      <td>0</td>\n",
       "      <td>0.21</td>\n",
       "      <td>-14</td>\n",
       "      <td>0</td>\n",
       "    </tr>\n",
       "    <tr>\n",
       "      <th>397</th>\n",
       "      <td>1</td>\n",
       "      <td>21</td>\n",
       "      <td>6</td>\n",
       "      <td>1</td>\n",
       "      <td>23</td>\n",
       "      <td>8</td>\n",
       "      <td>763</td>\n",
       "      <td>4</td>\n",
       "      <td>6</td>\n",
       "      <td>0</td>\n",
       "      <td>0</td>\n",
       "      <td>0.79</td>\n",
       "      <td>14</td>\n",
       "      <td>0</td>\n",
       "    </tr>\n",
       "    <tr>\n",
       "      <th>398</th>\n",
       "      <td>0</td>\n",
       "      <td>16</td>\n",
       "      <td>2</td>\n",
       "      <td>6</td>\n",
       "      <td>27</td>\n",
       "      <td>5</td>\n",
       "      <td>260</td>\n",
       "      <td>1</td>\n",
       "      <td>12</td>\n",
       "      <td>1</td>\n",
       "      <td>0</td>\n",
       "      <td>0.42</td>\n",
       "      <td>-10</td>\n",
       "      <td>0</td>\n",
       "    </tr>\n",
       "    <tr>\n",
       "      <th>399</th>\n",
       "      <td>1</td>\n",
       "      <td>16</td>\n",
       "      <td>9</td>\n",
       "      <td>0</td>\n",
       "      <td>24</td>\n",
       "      <td>4</td>\n",
       "      <td>562</td>\n",
       "      <td>3</td>\n",
       "      <td>7</td>\n",
       "      <td>1</td>\n",
       "      <td>0</td>\n",
       "      <td>0.58</td>\n",
       "      <td>10</td>\n",
       "      <td>0</td>\n",
       "    </tr>\n",
       "  </tbody>\n",
       "</table>\n",
       "</div>"
      ],
      "text/plain": [
       "     win_flag  Shots  Shots on Goal  Saves  Crosses  Corner Kicks  Passes  \\\n",
       "395         0      7              4      4       11             2     422   \n",
       "396         0      6              2      5        7             3     147   \n",
       "397         1     21              6      1       23             8     763   \n",
       "398         0     16              2      6       27             5     260   \n",
       "399         1     16              9      0       24             4     562   \n",
       "\n",
       "     Offside  Fouls Committed  Cautions/Yellow Cards  Red Cards  \\\n",
       "395        0                8                      1          0   \n",
       "396        4               11                      1          0   \n",
       "397        4                6                      0          0   \n",
       "398        1               12                      1          0   \n",
       "399        3                7                      1          0   \n",
       "\n",
       "     Ball Possession  standing_difference  close_standing_flag  \n",
       "395             0.42                  -16                    0  \n",
       "396             0.21                  -14                    0  \n",
       "397             0.79                   14                    0  \n",
       "398             0.42                  -10                    0  \n",
       "399             0.58                   10                    0  "
      ]
     },
     "execution_count": 10,
     "metadata": {},
     "output_type": "execute_result"
    }
   ],
   "source": [
    "df.tail()"
   ]
  },
  {
   "cell_type": "code",
   "execution_count": null,
   "metadata": {
    "collapsed": true
   },
   "outputs": [],
   "source": [
    "df.describe()"
   ]
  }
 ],
 "metadata": {
  "kernelspec": {
   "display_name": "Python 3",
   "language": "python",
   "name": "python3"
  },
  "language_info": {
   "codemirror_mode": {
    "name": "ipython",
    "version": 3
   },
   "file_extension": ".py",
   "mimetype": "text/x-python",
   "name": "python",
   "nbconvert_exporter": "python",
   "pygments_lexer": "ipython3",
   "version": "3.6.3"
  }
 },
 "nbformat": 4,
 "nbformat_minor": 2
}
