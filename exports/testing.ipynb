{
 "cells": [
  {
   "cell_type": "code",
   "execution_count": 1,
   "metadata": {
    "collapsed": true
   },
   "outputs": [],
   "source": [
    "import pandas as pd\n",
    "import numpy as np\n",
    "import matplotlib.pyplot as plt\n",
    "import sklearn as sk"
   ]
  },
  {
   "cell_type": "code",
   "execution_count": 2,
   "metadata": {},
   "outputs": [
    {
     "data": {
      "text/html": [
       "<div>\n",
       "<style>\n",
       "    .dataframe thead tr:only-child th {\n",
       "        text-align: right;\n",
       "    }\n",
       "\n",
       "    .dataframe thead th {\n",
       "        text-align: left;\n",
       "    }\n",
       "\n",
       "    .dataframe tbody tr th {\n",
       "        vertical-align: top;\n",
       "    }\n",
       "</style>\n",
       "<table border=\"1\" class=\"dataframe\">\n",
       "  <thead>\n",
       "    <tr style=\"text-align: right;\">\n",
       "      <th></th>\n",
       "      <th>Unnamed: 0</th>\n",
       "      <th>Goals</th>\n",
       "      <th>Assists</th>\n",
       "      <th>Shots</th>\n",
       "      <th>Shots on Goal</th>\n",
       "      <th>Saves</th>\n",
       "      <th>Penalties Scored</th>\n",
       "      <th>Penalty Kicks</th>\n",
       "      <th>Crosses</th>\n",
       "      <th>Corner Kicks</th>\n",
       "      <th>...</th>\n",
       "      <th>standing_difference</th>\n",
       "      <th>close_standing_flag</th>\n",
       "      <th>against_top_6_flag</th>\n",
       "      <th>value_point</th>\n",
       "      <th>points_lag1</th>\n",
       "      <th>points_lag2</th>\n",
       "      <th>points_lag3</th>\n",
       "      <th>opponent_standing_lag1</th>\n",
       "      <th>opponent_standing_lag2</th>\n",
       "      <th>opponent_standing_lag3</th>\n",
       "    </tr>\n",
       "    <tr>\n",
       "      <th>team</th>\n",
       "      <th></th>\n",
       "      <th></th>\n",
       "      <th></th>\n",
       "      <th></th>\n",
       "      <th></th>\n",
       "      <th></th>\n",
       "      <th></th>\n",
       "      <th></th>\n",
       "      <th></th>\n",
       "      <th></th>\n",
       "      <th></th>\n",
       "      <th></th>\n",
       "      <th></th>\n",
       "      <th></th>\n",
       "      <th></th>\n",
       "      <th></th>\n",
       "      <th></th>\n",
       "      <th></th>\n",
       "      <th></th>\n",
       "      <th></th>\n",
       "      <th></th>\n",
       "    </tr>\n",
       "  </thead>\n",
       "  <tbody>\n",
       "    <tr>\n",
       "      <th>ARS</th>\n",
       "      <td>141.071429</td>\n",
       "      <td>2.000000</td>\n",
       "      <td>1.642857</td>\n",
       "      <td>16.785714</td>\n",
       "      <td>6.142857</td>\n",
       "      <td>2.214286</td>\n",
       "      <td>0.142857</td>\n",
       "      <td>0.142857</td>\n",
       "      <td>20.857143</td>\n",
       "      <td>6.142857</td>\n",
       "      <td>...</td>\n",
       "      <td>2.785714</td>\n",
       "      <td>0.285714</td>\n",
       "      <td>0.357143</td>\n",
       "      <td>NaN</td>\n",
       "      <td>1.923077</td>\n",
       "      <td>1.833333</td>\n",
       "      <td>1.727273</td>\n",
       "      <td>9.846154</td>\n",
       "      <td>10.083333</td>\n",
       "      <td>10.636364</td>\n",
       "    </tr>\n",
       "    <tr>\n",
       "      <th>BHA</th>\n",
       "      <td>139.214286</td>\n",
       "      <td>0.928571</td>\n",
       "      <td>0.785714</td>\n",
       "      <td>8.642857</td>\n",
       "      <td>2.785714</td>\n",
       "      <td>2.857143</td>\n",
       "      <td>0.071429</td>\n",
       "      <td>0.071429</td>\n",
       "      <td>22.000000</td>\n",
       "      <td>4.571429</td>\n",
       "      <td>...</td>\n",
       "      <td>-1.642857</td>\n",
       "      <td>0.285714</td>\n",
       "      <td>0.214286</td>\n",
       "      <td>NaN</td>\n",
       "      <td>1.230769</td>\n",
       "      <td>1.333333</td>\n",
       "      <td>1.363636</td>\n",
       "      <td>10.769231</td>\n",
       "      <td>11.500000</td>\n",
       "      <td>11.181818</td>\n",
       "    </tr>\n",
       "    <tr>\n",
       "      <th>BOU</th>\n",
       "      <td>135.928571</td>\n",
       "      <td>0.857143</td>\n",
       "      <td>0.571429</td>\n",
       "      <td>9.857143</td>\n",
       "      <td>3.071429</td>\n",
       "      <td>3.142857</td>\n",
       "      <td>0.071429</td>\n",
       "      <td>0.071429</td>\n",
       "      <td>22.571429</td>\n",
       "      <td>5.214286</td>\n",
       "      <td>...</td>\n",
       "      <td>-6.928571</td>\n",
       "      <td>0.285714</td>\n",
       "      <td>0.357143</td>\n",
       "      <td>-inf</td>\n",
       "      <td>1.076923</td>\n",
       "      <td>1.083333</td>\n",
       "      <td>0.909091</td>\n",
       "      <td>10.615385</td>\n",
       "      <td>9.916667</td>\n",
       "      <td>9.909091</td>\n",
       "    </tr>\n",
       "    <tr>\n",
       "      <th>BUR</th>\n",
       "      <td>140.214286</td>\n",
       "      <td>1.000000</td>\n",
       "      <td>0.785714</td>\n",
       "      <td>9.928571</td>\n",
       "      <td>3.071429</td>\n",
       "      <td>3.428571</td>\n",
       "      <td>0.000000</td>\n",
       "      <td>0.000000</td>\n",
       "      <td>20.928571</td>\n",
       "      <td>4.642857</td>\n",
       "      <td>...</td>\n",
       "      <td>3.357143</td>\n",
       "      <td>0.357143</td>\n",
       "      <td>0.214286</td>\n",
       "      <td>-inf</td>\n",
       "      <td>1.692308</td>\n",
       "      <td>1.833333</td>\n",
       "      <td>1.727273</td>\n",
       "      <td>10.692308</td>\n",
       "      <td>11.250000</td>\n",
       "      <td>10.545455</td>\n",
       "    </tr>\n",
       "    <tr>\n",
       "      <th>CHE</th>\n",
       "      <td>140.785714</td>\n",
       "      <td>1.785714</td>\n",
       "      <td>1.428571</td>\n",
       "      <td>13.857143</td>\n",
       "      <td>5.500000</td>\n",
       "      <td>2.285714</td>\n",
       "      <td>0.000000</td>\n",
       "      <td>0.000000</td>\n",
       "      <td>22.857143</td>\n",
       "      <td>6.071429</td>\n",
       "      <td>...</td>\n",
       "      <td>6.571429</td>\n",
       "      <td>0.357143</td>\n",
       "      <td>0.357143</td>\n",
       "      <td>NaN</td>\n",
       "      <td>2.000000</td>\n",
       "      <td>2.083333</td>\n",
       "      <td>2.000000</td>\n",
       "      <td>11.076923</td>\n",
       "      <td>11.500000</td>\n",
       "      <td>11.000000</td>\n",
       "    </tr>\n",
       "  </tbody>\n",
       "</table>\n",
       "<p>5 rows × 43 columns</p>\n",
       "</div>"
      ],
      "text/plain": [
       "      Unnamed: 0     Goals   Assists      Shots  Shots on Goal     Saves  \\\n",
       "team                                                                       \n",
       "ARS   141.071429  2.000000  1.642857  16.785714       6.142857  2.214286   \n",
       "BHA   139.214286  0.928571  0.785714   8.642857       2.785714  2.857143   \n",
       "BOU   135.928571  0.857143  0.571429   9.857143       3.071429  3.142857   \n",
       "BUR   140.214286  1.000000  0.785714   9.928571       3.071429  3.428571   \n",
       "CHE   140.785714  1.785714  1.428571  13.857143       5.500000  2.285714   \n",
       "\n",
       "      Penalties Scored  Penalty Kicks    Crosses  Corner Kicks  \\\n",
       "team                                                             \n",
       "ARS           0.142857       0.142857  20.857143      6.142857   \n",
       "BHA           0.071429       0.071429  22.000000      4.571429   \n",
       "BOU           0.071429       0.071429  22.571429      5.214286   \n",
       "BUR           0.000000       0.000000  20.928571      4.642857   \n",
       "CHE           0.000000       0.000000  22.857143      6.071429   \n",
       "\n",
       "               ...            standing_difference  close_standing_flag  \\\n",
       "team           ...                                                       \n",
       "ARS            ...                       2.785714             0.285714   \n",
       "BHA            ...                      -1.642857             0.285714   \n",
       "BOU            ...                      -6.928571             0.285714   \n",
       "BUR            ...                       3.357143             0.357143   \n",
       "CHE            ...                       6.571429             0.357143   \n",
       "\n",
       "      against_top_6_flag  value_point  points_lag1  points_lag2  points_lag3  \\\n",
       "team                                                                           \n",
       "ARS             0.357143          NaN     1.923077     1.833333     1.727273   \n",
       "BHA             0.214286          NaN     1.230769     1.333333     1.363636   \n",
       "BOU             0.357143         -inf     1.076923     1.083333     0.909091   \n",
       "BUR             0.214286         -inf     1.692308     1.833333     1.727273   \n",
       "CHE             0.357143          NaN     2.000000     2.083333     2.000000   \n",
       "\n",
       "      opponent_standing_lag1  opponent_standing_lag2  opponent_standing_lag3  \n",
       "team                                                                          \n",
       "ARS                 9.846154               10.083333               10.636364  \n",
       "BHA                10.769231               11.500000               11.181818  \n",
       "BOU                10.615385                9.916667                9.909091  \n",
       "BUR                10.692308               11.250000               10.545455  \n",
       "CHE                11.076923               11.500000               11.000000  \n",
       "\n",
       "[5 rows x 43 columns]"
      ]
     },
     "execution_count": 2,
     "metadata": {},
     "output_type": "execute_result"
    }
   ],
   "source": [
    "df = pd.read_csv(\"2017-11-30_df.csv\")\n",
    "df = df.groupby('team').mean()\n",
    "df.head()"
   ]
  },
  {
   "cell_type": "code",
   "execution_count": 3,
   "metadata": {
    "scrolled": true
   },
   "outputs": [
    {
     "data": {
      "image/png": "[encoded data removed]",
      "text/plain": [
       "<matplotlib.figure.Figure at 0x150c522910>"
      ]
     },
     "metadata": {},
     "output_type": "display_data"
    }
   ],
   "source": [
    "plt.scatter(x=df['Ball Possession'],y=df['Goals'], data=df)\n",
    "plt.show()"
   ]
  },
  {
   "cell_type": "code",
   "execution_count": 6,
   "metadata": {
    "collapsed": true
   },
   "outputs": [],
   "source": [
    "import h2o as h2o"
   ]
  },
  {
   "cell_type": "markdown",
   "metadata": {},
   "source": []
  },
  {
   "cell_type": "code",
   "execution_count": 9,
   "metadata": {},
   "outputs": [
    {
     "name": "stdout",
     "output_type": "stream",
     "text": [
      "Checking whether there is an H2O instance running at http://localhost:54321..... not found.\n",
      "Attempting to start a local H2O server...\n",
      "  Java Version: java version \"1.6.0_65\"; Java(TM) SE Runtime Environment (build 1.6.0_65-b14-468); Java HotSpot(TM) 64-Bit Server VM (build 20.65-b04-468, mixed mode)\n",
      "  Starting server from /anaconda2/lib/python2.7/site-packages/h2o/backend/bin/h2o.jar\n",
      "  Ice root: /var/folders/c4/ffjgptjd32b9_jsm7k6kt9t80000gn/T/tmp3jHa0v\n",
      "  JVM stdout: /var/folders/c4/ffjgptjd32b9_jsm7k6kt9t80000gn/T/tmp3jHa0v/h2o_admin_started_from_python.out\n",
      "  JVM stderr: /var/folders/c4/ffjgptjd32b9_jsm7k6kt9t80000gn/T/tmp3jHa0v/h2o_admin_started_from_python.err\n",
      "  Server is running at http://127.0.0.1:54321\n",
      "Connecting to H2O server at http://127.0.0.1:54321... successful.\n",
      "Warning: Your H2O cluster version is too old (11 months and 22 days)! Please download and install the latest version from http://h2o.ai/download/\n"
     ]
    },
    {
     "data": {
      "text/html": [
       "<div style=\"overflow:auto\"><table style=\"width:50%\"><tr><td>H2O cluster uptime:</td>\n",
       "<td>02 secs</td></tr>\n",
       "<tr><td>H2O cluster version:</td>\n",
       "<td>3.11.0.3714</td></tr>\n",
       "<tr><td>H2O cluster version age:</td>\n",
       "<td>11 months and 22 days !!!</td></tr>\n",
       "<tr><td>H2O cluster name:</td>\n",
       "<td>H2O_from_python_admin_nozs5e</td></tr>\n",
       "<tr><td>H2O cluster total nodes:</td>\n",
       "<td>1</td></tr>\n",
       "<tr><td>H2O cluster free memory:</td>\n",
       "<td>123.9 Mb</td></tr>\n",
       "<tr><td>H2O cluster total cores:</td>\n",
       "<td>8</td></tr>\n",
       "<tr><td>H2O cluster allowed cores:</td>\n",
       "<td>8</td></tr>\n",
       "<tr><td>H2O cluster status:</td>\n",
       "<td>accepting new members, healthy</td></tr>\n",
       "<tr><td>H2O connection url:</td>\n",
       "<td>http://127.0.0.1:54321</td></tr>\n",
       "<tr><td>H2O connection proxy:</td>\n",
       "<td>None</td></tr>\n",
       "<tr><td>Python version:</td>\n",
       "<td>2.7.14 final</td></tr></table></div>"
      ],
      "text/plain": [
       "--------------------------  ------------------------------\n",
       "H2O cluster uptime:         02 secs\n",
       "H2O cluster version:        3.11.0.3714\n",
       "H2O cluster version age:    11 months and 22 days !!!\n",
       "H2O cluster name:           H2O_from_python_admin_nozs5e\n",
       "H2O cluster total nodes:    1\n",
       "H2O cluster free memory:    123.9 Mb\n",
       "H2O cluster total cores:    8\n",
       "H2O cluster allowed cores:  8\n",
       "H2O cluster status:         accepting new members, healthy\n",
       "H2O connection url:         http://127.0.0.1:54321\n",
       "H2O connection proxy:\n",
       "Python version:             2.7.14 final\n",
       "--------------------------  ------------------------------"
      ]
     },
     "metadata": {},
     "output_type": "display_data"
    }
   ],
   "source": [
    "h2o.init()"
   ]
  },
  {
   "cell_type": "code",
   "execution_count": 10,
   "metadata": {
    "collapsed": true
   },
   "outputs": [],
   "source": [
    "h2o.shutdown(prompt=False)"
   ]
  },
  {
   "cell_type": "code",
   "execution_count": null,
   "metadata": {
    "collapsed": true
   },
   "outputs": [],
   "source": [
    "h2o."
   ]
  }
 ],
 "metadata": {
  "kernelspec": {
   "display_name": "Python 2",
   "language": "python",
   "name": "python2"
  },
  "language_info": {
   "codemirror_mode": {
    "name": "ipython",
    "version": 2
   },
   "file_extension": ".py",
   "mimetype": "text/x-python",
   "name": "python",
   "nbconvert_exporter": "python",
   "pygments_lexer": "ipython2",
   "version": "2.7.14"
  }
 },
 "nbformat": 4,
 "nbformat_minor": 2
}
