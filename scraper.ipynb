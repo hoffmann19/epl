{
 "cells": [
  {
   "cell_type": "code",
   "execution_count": 5,
   "metadata": {
    "collapsed": true
   },
   "outputs": [],
   "source": [
    "import pandas as pd\n",
    "import numpy as np"
   ]
  },
  {
   "cell_type": "code",
   "execution_count": 7,
   "metadata": {
    "collapsed": true
   },
   "outputs": [],
   "source": [
    "from bs4 import BeautifulSoup"
   ]
  },
  {
   "cell_type": "code",
   "execution_count": 2,
   "metadata": {
    "collapsed": true
   },
   "outputs": [],
   "source": [
    "base_url = 'http://scores.nbcsports.com/epl/fixtures.asp'"
   ]
  },
  {
   "cell_type": "code",
   "execution_count": 4,
   "metadata": {},
   "outputs": [
    {
     "data": {
      "text/plain": [
       "[                  0\n",
       " 0  ScheduleFixtures,\n",
       "          0                                                  1\n",
       " 0  January  Month: August September October November Decem...,\n",
       "                                                     0                       1  \\\n",
       " 0                              Monday, 1 January 2018                     NaN   \n",
       " 1                                         Time/Result                    Home   \n",
       " 2                                                 2-2  Brighton & Hove Albion   \n",
       " 3                                                 3-0          Leicester City   \n",
       " 4                                                 1-2                 Burnley   \n",
       " 5                                                 0-1              Stoke City   \n",
       " 6                                                 0-2                 Everton   \n",
       " 7                             Tuesday, 2 January 2018                     NaN   \n",
       " 8                                         Time/Result                    Home   \n",
       " 9                                                 1-2             Southampton   \n",
       " 10                                                2-1         West Ham United   \n",
       " 11                                                0-2            Swansea City   \n",
       " 12                                                3-1         Manchester City   \n",
       " 13                          Wednesday, 3 January 2018                     NaN   \n",
       " 14                                        Time/Result                    Home   \n",
       " 15                                                2-2                 Arsenal   \n",
       " 16                           Thursday, 4 January 2018                     NaN   \n",
       " 17                                        Time/Result                    Home   \n",
       " 18                                                1-1       Tottenham Hotspur   \n",
       " 19                          Saturday, 13 January 2018                     NaN   \n",
       " 20                                        Time/Result                    Home   \n",
       " 21  7:00 AM PT8:00 AM MT9:00 AM CT10:00 AM ET15:00...                 Chelsea   \n",
       " 22  7:00 AM PT8:00 AM MT9:00 AM CT10:00 AM ET15:00...        Newcastle United   \n",
       " 23  7:00 AM PT8:00 AM MT9:00 AM CT10:00 AM ET15:00...          Crystal Palace   \n",
       " 24  7:00 AM PT8:00 AM MT9:00 AM CT10:00 AM ET15:00...                 Watford   \n",
       " 25  7:00 AM PT8:00 AM MT9:00 AM CT10:00 AM ET15:00...    West Bromwich Albion   \n",
       " 26  7:00 AM PT8:00 AM MT9:00 AM CT10:00 AM ET15:00...       Huddersfield Town   \n",
       " 27  9:30 AM PT10:30 AM MT11:30 AM CT12:30 PM ET17:...       Tottenham Hotspur   \n",
       " 28                            Sunday, 14 January 2018                     NaN   \n",
       " 29                                        Time/Result                    Home   \n",
       " ..                                                ...                     ...   \n",
       " 35                          Saturday, 20 January 2018                     NaN   \n",
       " 36                                        Time/Result                    Home   \n",
       " 37  4:30 AM PT5:30 AM MT6:30 AM CT7:30 AM ET12:30 ...  Brighton & Hove Albion   \n",
       " 38  7:00 AM PT8:00 AM MT9:00 AM CT10:00 AM ET15:00...                 Arsenal   \n",
       " 39  7:00 AM PT8:00 AM MT9:00 AM CT10:00 AM ET15:00...                 Everton   \n",
       " 40  7:00 AM PT8:00 AM MT9:00 AM CT10:00 AM ET15:00...          Leicester City   \n",
       " 41  7:00 AM PT8:00 AM MT9:00 AM CT10:00 AM ET15:00...         West Ham United   \n",
       " 42  7:00 AM PT8:00 AM MT9:00 AM CT10:00 AM ET15:00...                 Burnley   \n",
       " 43  7:00 AM PT8:00 AM MT9:00 AM CT10:00 AM ET15:00...              Stoke City   \n",
       " 44  9:30 AM PT10:30 AM MT11:30 AM CT12:30 PM ET17:...         Manchester City   \n",
       " 45                            Sunday, 21 January 2018                     NaN   \n",
       " 46                                        Time/Result                    Home   \n",
       " 47  8:00 AM PT9:00 AM MT10:00 AM CT11:00 AM ET16:0...             Southampton   \n",
       " 48                            Monday, 22 January 2018                     NaN   \n",
       " 49                                        Time/Result                    Home   \n",
       " 50  12:00 PM PT1:00 PM MT2:00 PM CT3:00 PM ET20:00...            Swansea City   \n",
       " 51                           Tuesday, 30 January 2018                     NaN   \n",
       " 52                                        Time/Result                    Home   \n",
       " 53  11:45 AM PT12:45 PM MT1:45 PM CT2:45 PM ET19:4...         West Ham United   \n",
       " 54  11:45 AM PT12:45 PM MT1:45 PM CT2:45 PM ET19:4...            Swansea City   \n",
       " 55  12:00 PM PT1:00 PM MT2:00 PM CT3:00 PM ET20:00...       Huddersfield Town   \n",
       " 56                         Wednesday, 31 January 2018                     NaN   \n",
       " 57                                        Time/Result                    Home   \n",
       " 58  11:45 AM PT12:45 PM MT1:45 PM CT2:45 PM ET19:4...                 Chelsea   \n",
       " 59  11:45 AM PT12:45 PM MT1:45 PM CT2:45 PM ET19:4...                 Everton   \n",
       " 60  11:45 AM PT12:45 PM MT1:45 PM CT2:45 PM ET19:4...        Newcastle United   \n",
       " 61  11:45 AM PT12:45 PM MT1:45 PM CT2:45 PM ET19:4...             Southampton   \n",
       " 62  12:00 PM PT1:00 PM MT2:00 PM CT3:00 PM ET20:00...         Manchester City   \n",
       " 63  12:00 PM PT1:00 PM MT2:00 PM CT3:00 PM ET20:00...       Tottenham Hotspur   \n",
       " 64  12:00 PM PT1:00 PM MT2:00 PM CT3:00 PM ET20:00...              Stoke City   \n",
       " \n",
       "                          2                                   3  \n",
       " 0                      NaN                                 NaN  \n",
       " 1                     Away                               Venue  \n",
       " 2              Bournemouth  American Express Community Stadium  \n",
       " 3        Huddersfield Town                  King Power Stadium  \n",
       " 4                Liverpool                           Turf Moor  \n",
       " 5         Newcastle United                      bet365 Stadium  \n",
       " 6        Manchester United                       Goodison Park  \n",
       " 7                      NaN                                 NaN  \n",
       " 8                     Away                               Venue  \n",
       " 9           Crystal Palace                  St. Mary's Stadium  \n",
       " 10    West Bromwich Albion                     Olympic Stadium  \n",
       " 11       Tottenham Hotspur                     Liberty Stadium  \n",
       " 12                 Watford                      Etihad Stadium  \n",
       " 13                     NaN                                 NaN  \n",
       " 14                    Away                               Venue  \n",
       " 15                 Chelsea                    Emirates Stadium  \n",
       " 16                     NaN                                 NaN  \n",
       " 17                    Away                               Venue  \n",
       " 18         West Ham United                     Wembley Stadium  \n",
       " 19                     NaN                                 NaN  \n",
       " 20                    Away                               Venue  \n",
       " 21          Leicester City                     Stamford Bridge  \n",
       " 22            Swansea City                     St. James' Park  \n",
       " 23                 Burnley                       Selhurst Park  \n",
       " 24             Southampton                       Vicarage Road  \n",
       " 25  Brighton & Hove Albion                       The Hawthorns  \n",
       " 26         West Ham United                John Smith's Stadium  \n",
       " 27                 Everton                     Wembley Stadium  \n",
       " 28                     NaN                                 NaN  \n",
       " 29                    Away                               Venue  \n",
       " ..                     ...                                 ...  \n",
       " 35                     NaN                                 NaN  \n",
       " 36                    Away                               Venue  \n",
       " 37                 Chelsea  American Express Community Stadium  \n",
       " 38          Crystal Palace                    Emirates Stadium  \n",
       " 39    West Bromwich Albion                       Goodison Park  \n",
       " 40                 Watford                  King Power Stadium  \n",
       " 41             Bournemouth                     Olympic Stadium  \n",
       " 42       Manchester United                           Turf Moor  \n",
       " 43       Huddersfield Town                      bet365 Stadium  \n",
       " 44        Newcastle United                      Etihad Stadium  \n",
       " 45                     NaN                                 NaN  \n",
       " 46                    Away                               Venue  \n",
       " 47       Tottenham Hotspur                  St. Mary's Stadium  \n",
       " 48                     NaN                                 NaN  \n",
       " 49                    Away                               Venue  \n",
       " 50               Liverpool                     Liberty Stadium  \n",
       " 51                     NaN                                 NaN  \n",
       " 52                    Away                               Venue  \n",
       " 53          Crystal Palace                     Olympic Stadium  \n",
       " 54                 Arsenal                     Liberty Stadium  \n",
       " 55               Liverpool                John Smith's Stadium  \n",
       " 56                     NaN                                 NaN  \n",
       " 57                    Away                               Venue  \n",
       " 58             Bournemouth                     Stamford Bridge  \n",
       " 59          Leicester City                       Goodison Park  \n",
       " 60                 Burnley                     St. James' Park  \n",
       " 61  Brighton & Hove Albion                  St. Mary's Stadium  \n",
       " 62    West Bromwich Albion                      Etihad Stadium  \n",
       " 63       Manchester United                     Wembley Stadium  \n",
       " 64                 Watford                      bet365 Stadium  \n",
       " \n",
       " [65 rows x 4 columns]]"
      ]
     },
     "execution_count": 4,
     "metadata": {},
     "output_type": "execute_result"
    }
   ],
   "source": []
  },
  {
   "cell_type": "code",
   "execution_count": 6,
   "metadata": {},
   "outputs": [
    {
     "ename": "SyntaxError",
     "evalue": "invalid syntax (<ipython-input-6-4013853544e0>, line 1)",
     "output_type": "error",
     "traceback": [
      "\u001b[0;36m  File \u001b[0;32m\"<ipython-input-6-4013853544e0>\"\u001b[0;36m, line \u001b[0;32m1\u001b[0m\n\u001b[0;31m    read this\u001b[0m\n\u001b[0m            ^\u001b[0m\n\u001b[0;31mSyntaxError\u001b[0m\u001b[0;31m:\u001b[0m invalid syntax\n"
     ]
    }
   ],
   "source": [
    "read this"
   ]
  },
  {
   "cell_type": "code",
   "execution_count": null,
   "metadata": {
    "collapsed": true
   },
   "outputs": [],
   "source": []
  },
  {
   "cell_type": "code",
   "execution_count": null,
   "metadata": {
    "collapsed": true
   },
   "outputs": [],
   "source": []
  }
 ],
 "metadata": {
  "kernelspec": {
   "display_name": "Python 3",
   "language": "python",
   "name": "python3"
  },
  "language_info": {
   "codemirror_mode": {
    "name": "ipython",
    "version": 3
   },
   "file_extension": ".py",
   "mimetype": "text/x-python",
   "name": "python",
   "nbconvert_exporter": "python",
   "pygments_lexer": "ipython3",
   "version": "3.6.3"
  }
 },
 "nbformat": 4,
 "nbformat_minor": 2
}
